{
 "cells": [
  {
   "cell_type": "code",
   "execution_count": null,
   "id": "b1112208-b3bb-44df-81f1-37a882e207cb",
   "metadata": {
    "id": "b1112208-b3bb-44df-81f1-37a882e207cb"
   },
   "outputs": [],
   "source": [
    "from training_and_eval import *"
   ]
  },
  {
   "cell_type": "code",
   "execution_count": null,
   "id": "jkv-eWoR9W2y",
   "metadata": {
    "colab": {
     "base_uri": "https://localhost:8080/",
     "height": 35
    },
    "id": "jkv-eWoR9W2y",
    "outputId": "c6095d0b-885a-44ec-9ba1-aa6882093eb6"
   },
   "outputs": [
    {
     "data": {
      "application/vnd.google.colaboratory.intrinsic+json": {
       "type": "string"
      },
      "text/plain": [
       "'/content'"
      ]
     },
     "execution_count": 15,
     "metadata": {},
     "output_type": "execute_result"
    }
   ],
   "source": [
    "pwd()"
   ]
  },
  {
   "cell_type": "code",
   "execution_count": null,
   "id": "38Qo9cDF3QQ6",
   "metadata": {
    "id": "38Qo9cDF3QQ6"
   },
   "outputs": [],
   "source": [
    "VAE_BATCH_SIZE = 100\n",
    "VAE_EPOCHS = 50\n",
    "VAE_LR = 3e-4\n",
    "\n",
    "CNN_BATCH_SIZE = 20\n",
    "CNN_EPOCHS = 5\n",
    "CNN_LR = 1e-3\n",
    "\n",
    "NETS = 10"
   ]
  },
  {
   "cell_type": "code",
   "execution_count": null,
   "id": "p0PsdLHFWIHI",
   "metadata": {
    "colab": {
     "base_uri": "https://localhost:8080/"
    },
    "id": "p0PsdLHFWIHI",
    "outputId": "6e9d15f6-284c-4d69-d5c2-19c2b2634817"
   },
   "outputs": [
    {
     "name": "stdout",
     "output_type": "stream",
     "text": [
      "cuda\n"
     ]
    }
   ],
   "source": [
    "device = torch.device(\"cuda\" if torch.cuda.is_available() else \"cpu\")\n",
    "print(device)"
   ]
  },
  {
   "cell_type": "code",
   "execution_count": null,
   "id": "p5vIvuVgT_dZ",
   "metadata": {
    "colab": {
     "base_uri": "https://localhost:8080/",
     "height": 211
    },
    "id": "p5vIvuVgT_dZ",
    "outputId": "91af10c8-f513-43f8-e848-327e004cbdca"
   },
   "outputs": [
    {
     "data": {
      "image/png": "[encoded data removed]",
      "text/plain": [
       "<Figure size 640x480 with 1 Axes>"
      ]
     },
     "metadata": {},
     "output_type": "display_data"
    },
    {
     "name": "stdout",
     "output_type": "stream",
     "text": [
      "tensor([5, 9, 6, 2])\n"
     ]
    }
   ],
   "source": [
    "trainset, testset = get_datasets()\n",
    "trainloader = get_trainloader(trainset, VAE_BATCH_SIZE)\n",
    "testloader = get_testloader(testset, 1)\n",
    "show_batch(trainset, 4)"
   ]
  },
  {
   "cell_type": "code",
   "execution_count": null,
   "id": "bvjL0wu65526",
   "metadata": {
    "colab": {
     "base_uri": "https://localhost:8080/"
    },
    "id": "bvjL0wu65526",
    "outputId": "870a9ae1-7110-4014-ccd8-69168645f9ca"
   },
   "outputs": [
    {
     "name": "stdout",
     "output_type": "stream",
     "text": [
      "TRAINING VAE\n",
      "Epoch: 1/50, Epoch Train Loss: 182.7968\n",
      "Epoch Time: 10.290123701095581 seconds\n",
      "\n",
      "Epoch: 2/50, Epoch Train Loss: 136.1415\n",
      "Epoch Time: 9.276592254638672 seconds\n",
      "\n",
      "Epoch: 3/50, Epoch Train Loss: 126.9329\n",
      "Epoch Time: 9.243604898452759 seconds\n",
      "\n",
      "Epoch: 4/50, Epoch Train Loss: 119.7914\n",
      "Epoch Time: 9.174817085266113 seconds\n",
      "\n",
      "Epoch: 5/50, Epoch Train Loss: 113.3809\n",
      "Epoch Time: 9.262112140655518 seconds\n",
      "\n",
      "Epoch: 6/50, Epoch Train Loss: 109.8890\n",
      "Epoch Time: 9.28860068321228 seconds\n",
      "\n",
      "Epoch: 7/50, Epoch Train Loss: 107.9017\n",
      "Epoch Time: 9.17555284500122 seconds\n",
      "\n",
      "Epoch: 8/50, Epoch Train Loss: 106.3017\n",
      "Epoch Time: 9.2444326877594 seconds\n",
      "\n",
      "Epoch: 9/50, Epoch Train Loss: 104.9093\n",
      "Epoch Time: 9.189446926116943 seconds\n",
      "\n",
      "Epoch: 10/50, Epoch Train Loss: 103.5345\n",
      "Epoch Time: 9.186591863632202 seconds\n",
      "\n",
      "Epoch: 11/50, Epoch Train Loss: 102.2208\n",
      "Epoch Time: 9.255743741989136 seconds\n",
      "\n",
      "Epoch: 12/50, Epoch Train Loss: 100.9258\n",
      "Epoch Time: 9.131549596786499 seconds\n",
      "\n",
      "Epoch: 13/50, Epoch Train Loss: 99.6291\n",
      "Epoch Time: 9.223109483718872 seconds\n",
      "\n",
      "Epoch: 14/50, Epoch Train Loss: 98.6060\n",
      "Epoch Time: 9.242277383804321 seconds\n",
      "\n",
      "Epoch: 15/50, Epoch Train Loss: 97.7401\n",
      "Epoch Time: 9.245437145233154 seconds\n",
      "\n",
      "Epoch: 16/50, Epoch Train Loss: 96.9917\n",
      "Epoch Time: 9.259056568145752 seconds\n",
      "\n",
      "Epoch: 17/50, Epoch Train Loss: 96.4094\n",
      "Epoch Time: 9.204617023468018 seconds\n",
      "\n",
      "Epoch: 18/50, Epoch Train Loss: 95.7266\n",
      "Epoch Time: 9.22326111793518 seconds\n",
      "\n",
      "Epoch: 19/50, Epoch Train Loss: 95.2079\n",
      "Epoch Time: 9.342913627624512 seconds\n",
      "\n",
      "Epoch: 20/50, Epoch Train Loss: 94.8249\n",
      "Epoch Time: 9.24748706817627 seconds\n",
      "\n",
      "Epoch: 21/50, Epoch Train Loss: 94.5031\n",
      "Epoch Time: 9.261499404907227 seconds\n",
      "\n",
      "Epoch: 22/50, Epoch Train Loss: 94.2053\n",
      "Epoch Time: 9.30120849609375 seconds\n",
      "\n",
      "Epoch: 23/50, Epoch Train Loss: 93.9246\n",
      "Epoch Time: 9.221421241760254 seconds\n",
      "\n",
      "Epoch: 24/50, Epoch Train Loss: 93.6837\n",
      "Epoch Time: 9.244637727737427 seconds\n",
      "\n",
      "Epoch: 25/50, Epoch Train Loss: 93.4815\n",
      "Epoch Time: 9.243330478668213 seconds\n",
      "\n",
      "Epoch: 26/50, Epoch Train Loss: 93.2450\n",
      "Epoch Time: 9.18559455871582 seconds\n",
      "\n",
      "Epoch: 27/50, Epoch Train Loss: 93.0605\n",
      "Epoch Time: 9.211118936538696 seconds\n",
      "\n",
      "Epoch: 28/50, Epoch Train Loss: 92.8765\n",
      "Epoch Time: 9.240402698516846 seconds\n",
      "\n",
      "Epoch: 29/50, Epoch Train Loss: 92.7318\n",
      "Epoch Time: 9.21976113319397 seconds\n",
      "\n",
      "Epoch: 30/50, Epoch Train Loss: 92.5376\n",
      "Epoch Time: 9.189641952514648 seconds\n",
      "\n",
      "Epoch: 31/50, Epoch Train Loss: 92.3509\n",
      "Epoch Time: 9.199075698852539 seconds\n",
      "\n",
      "Epoch: 32/50, Epoch Train Loss: 92.2012\n",
      "Epoch Time: 9.2677640914917 seconds\n",
      "\n",
      "Epoch: 33/50, Epoch Train Loss: 92.0311\n",
      "Epoch Time: 9.362583875656128 seconds\n",
      "\n",
      "Epoch: 34/50, Epoch Train Loss: 91.9237\n",
      "Epoch Time: 9.250616550445557 seconds\n",
      "\n",
      "Epoch: 35/50, Epoch Train Loss: 91.7187\n",
      "Epoch Time: 9.317182779312134 seconds\n",
      "\n",
      "Epoch: 36/50, Epoch Train Loss: 91.6320\n",
      "Epoch Time: 9.275735139846802 seconds\n",
      "\n",
      "Epoch: 37/50, Epoch Train Loss: 91.4651\n",
      "Epoch Time: 9.246366500854492 seconds\n",
      "\n",
      "Epoch: 38/50, Epoch Train Loss: 91.3193\n",
      "Epoch Time: 9.237004518508911 seconds\n",
      "\n",
      "Epoch: 39/50, Epoch Train Loss: 91.2180\n",
      "Epoch Time: 9.322993993759155 seconds\n",
      "\n",
      "Epoch: 40/50, Epoch Train Loss: 91.0715\n",
      "Epoch Time: 9.198599815368652 seconds\n",
      "\n",
      "Epoch: 41/50, Epoch Train Loss: 90.8763\n",
      "Epoch Time: 9.230376720428467 seconds\n",
      "\n",
      "Epoch: 42/50, Epoch Train Loss: 90.8032\n",
      "Epoch Time: 9.31934142112732 seconds\n",
      "\n",
      "Epoch: 43/50, Epoch Train Loss: 90.6649\n",
      "Epoch Time: 9.302937269210815 seconds\n",
      "\n",
      "Epoch: 44/50, Epoch Train Loss: 90.5658\n",
      "Epoch Time: 9.225167751312256 seconds\n",
      "\n",
      "Epoch: 45/50, Epoch Train Loss: 90.4451\n",
      "Epoch Time: 9.202739000320435 seconds\n",
      "\n",
      "Epoch: 46/50, Epoch Train Loss: 90.3390\n",
      "Epoch Time: 9.24879002571106 seconds\n",
      "\n",
      "Epoch: 47/50, Epoch Train Loss: 90.2628\n",
      "Epoch Time: 9.19555926322937 seconds\n",
      "\n",
      "Epoch: 48/50, Epoch Train Loss: 90.1670\n",
      "Epoch Time: 9.221343278884888 seconds\n",
      "\n",
      "Epoch: 49/50, Epoch Train Loss: 90.1024\n",
      "Epoch Time: 9.221625804901123 seconds\n",
      "\n",
      "Epoch: 50/50, Epoch Train Loss: 90.0049\n",
      "Epoch Time: 9.126229524612427 seconds\n",
      "\n",
      "Total VAE training time:  463.045597076416 seconds\n",
      "\n"
     ]
    }
   ],
   "source": [
    "vae_model, vae_losses = train_vae(trainloader, device, num_epochs=VAE_EPOCHS, batch_size=VAE_BATCH_SIZE, learning_rate=VAE_LR)"
   ]
  },
  {
   "cell_type": "code",
   "execution_count": null,
   "id": "ZIk0AWk03D0p",
   "metadata": {
    "colab": {
     "base_uri": "https://localhost:8080/",
     "height": 489
    },
    "id": "ZIk0AWk03D0p",
    "outputId": "3931ad21-b8fd-4580-dd54-decb7cf14197"
   },
   "outputs": [
    {
     "data": {
      "text/plain": [
       "[<matplotlib.lines.Line2D at 0x7a47dbd5d060>]"
      ]
     },
     "execution_count": 7,
     "metadata": {},
     "output_type": "execute_result"
    },
    {
     "data": {
      "image/png": "[encoded data removed]",
      "text/plain": [
       "<Figure size 640x480 with 1 Axes>"
      ]
     },
     "metadata": {},
     "output_type": "display_data"
    }
   ],
   "source": [
    "plt.title(\"VAE Training Loss vs Batch\")\n",
    "plt.ylabel(\"Training Loss\")\n",
    "plt.xlabel(\"Batch\")\n",
    "plt.plot(range(len(vae_losses)), vae_losses)"
   ]
  },
  {
   "cell_type": "code",
   "execution_count": null,
   "id": "6eM31puLBz0A",
   "metadata": {
    "colab": {
     "base_uri": "https://localhost:8080/",
     "height": 211
    },
    "id": "6eM31puLBz0A",
    "outputId": "deffd6e9-a3c9-4ef4-a3cc-e98017a3d093"
   },
   "outputs": [
    {
     "data": {
      "image/png": "[encoded data removed]",
      "text/plain": [
       "<Figure size 640x480 with 1 Axes>"
      ]
     },
     "metadata": {},
     "output_type": "display_data"
    },
    {
     "name": "stdout",
     "output_type": "stream",
     "text": [
      "tensor([4, 7, 4, 0])\n"
     ]
    }
   ],
   "source": [
    "save_synth_data(vae_model, device)\n",
    "genset = GeneratedMNISTDataset()\n",
    "genloader = DataLoader(genset, batch_size=4, shuffle=True)\n",
    "show_batch(genset, 4)"
   ]
  },
  {
   "cell_type": "code",
   "execution_count": null,
   "id": "xZrywdxAeRnk",
   "metadata": {
    "id": "xZrywdxAeRnk"
   },
   "outputs": [],
   "source": [
    "data, labels = prep_real_data(trainset)\n",
    "trainset = OriginalMNISTDataset(data, labels)"
   ]
  },
  {
   "cell_type": "code",
   "execution_count": null,
   "id": "R6eh4T7l4cFZ",
   "metadata": {
    "colab": {
     "base_uri": "https://localhost:8080/"
    },
    "id": "R6eh4T7l4cFZ",
    "outputId": "a3eaa633-6256-4afb-dda1-a69c1190496c"
   },
   "outputs": [
    {
     "data": {
      "text/plain": [
       "0.9823"
      ]
     },
     "execution_count": 10,
     "metadata": {},
     "output_type": "execute_result"
    }
   ],
   "source": [
    "pure_model, pure_losses, pure_acc = train_cnn(trainset, testloader, genset, 1.0, device, generated_ratio=0.0, batch_size=CNN_BATCH_SIZE, num_epochs=CNN_EPOCHS, learning_rate=CNN_LR)\n",
    "pure_acc"
   ]
  },
  {
   "cell_type": "code",
   "execution_count": null,
   "id": "-DhAOXny_1SF",
   "metadata": {
    "colab": {
     "base_uri": "https://localhost:8080/",
     "height": 489
    },
    "id": "-DhAOXny_1SF",
    "outputId": "79f60a6e-9d3c-4560-b86e-d67a627b0c98"
   },
   "outputs": [
    {
     "data": {
      "text/plain": [
       "[<matplotlib.lines.Line2D at 0x7a47dbd5caf0>]"
      ]
     },
     "execution_count": 11,
     "metadata": {},
     "output_type": "execute_result"
    },
    {
     "data": {
      "image/png": "[encoded data removed]",
      "text/plain": [
       "<Figure size 640x480 with 1 Axes>"
      ]
     },
     "metadata": {},
     "output_type": "display_data"
    }
   ],
   "source": [
    "plt.title(\"Pure CNN Training Loss vs Batch\")\n",
    "plt.ylabel(\"Training Loss\")\n",
    "plt.xlabel(\"Batch\")\n",
    "plt.plot(range(len(pure_losses)), pure_losses)"
   ]
  },
  {
   "cell_type": "code",
   "execution_count": null,
   "id": "FGq3xVmp4cIA",
   "metadata": {
    "colab": {
     "base_uri": "https://localhost:8080/"
    },
    "id": "FGq3xVmp4cIA",
    "outputId": "e5a55549-41b2-4d27-9394-d041ade13560"
   },
   "outputs": [
    {
     "data": {
      "text/plain": [
       "0.964"
      ]
     },
     "execution_count": 12,
     "metadata": {},
     "output_type": "execute_result"
    }
   ],
   "source": [
    "synth_model, synth_losses, synth_acc = train_cnn(trainset, testloader, genset, 0.0, device, generated_ratio=1.0, batch_size=CNN_BATCH_SIZE, num_epochs=CNN_EPOCHS, learning_rate=CNN_LR)\n",
    "synth_acc"
   ]
  },
  {
   "cell_type": "code",
   "execution_count": null,
   "id": "0WeIv4c64cKJ",
   "metadata": {
    "colab": {
     "base_uri": "https://localhost:8080/",
     "height": 489
    },
    "id": "0WeIv4c64cKJ",
    "outputId": "c475509c-1539-4227-ea98-93494f3f0028"
   },
   "outputs": [
    {
     "data": {
      "text/plain": [
       "[<matplotlib.lines.Line2D at 0x7a47db34f190>]"
      ]
     },
     "execution_count": 13,
     "metadata": {},
     "output_type": "execute_result"
    },
    {
     "data": {
      "image/png": "[encoded data removed]",
      "text/plain": [
       "<Figure size 640x480 with 1 Axes>"
      ]
     },
     "metadata": {},
     "output_type": "display_data"
    }
   ],
   "source": [
    "plt.title(\"Synthetic CNN Training Loss vs Batch\")\n",
    "plt.ylabel(\"Training Loss\")\n",
    "plt.xlabel(\"Batch\")\n",
    "plt.plot(range(len(synth_losses)), synth_losses)"
   ]
  },
  {
   "cell_type": "code",
   "execution_count": null,
   "id": "0yThSZVZ4JQA",
   "metadata": {
    "id": "0yThSZVZ4JQA"
   },
   "outputs": [],
   "source": [
    "#Now do large experiments"
   ]
  },
  {
   "cell_type": "code",
   "execution_count": null,
   "id": "JBMp1mhDBAtm",
   "metadata": {
    "colab": {
     "base_uri": "https://localhost:8080/"
    },
    "id": "JBMp1mhDBAtm",
    "outputId": "f6677c3d-652f-44c4-88ce-cd1ffe5cbcf9"
   },
   "outputs": [
    {
     "data": {
      "text/plain": [
       "array([0.05, 0.1 , 0.15, 0.2 , 0.25, 0.3 , 0.35, 0.4 , 0.45, 0.5 , 0.55,\n",
       "       0.6 , 0.65, 0.7 , 0.75, 0.8 , 0.85, 0.9 , 0.95, 1.  ])"
      ]
     },
     "execution_count": 15,
     "metadata": {},
     "output_type": "execute_result"
    }
   ],
   "source": [
    "mnist_ratios = np.linspace(0.05, 1.0, 20)\n",
    "mnist_ratios"
   ]
  },
  {
   "cell_type": "code",
   "execution_count": null,
   "id": "IEkK_qw0A2Yb",
   "metadata": {
    "colab": {
     "base_uri": "https://localhost:8080/"
    },
    "id": "IEkK_qw0A2Yb",
    "outputId": "613af2f7-634d-4d78-bbf5-b89b217e9963"
   },
   "outputs": [
    {
     "name": "stdout",
     "output_type": "stream",
     "text": [
      "Ratio: 0.05\n",
      "Net: 1 / 10\n",
      "Net: 2 / 10\n",
      "Net: 3 / 10\n",
      "Net: 4 / 10\n",
      "Net: 5 / 10\n",
      "Net: 6 / 10\n",
      "Net: 7 / 10\n",
      "Net: 8 / 10\n",
      "Net: 9 / 10\n",
      "Net: 10 / 10\n",
      "Ratio Time: 103.41081738471985 seconds\n",
      "\n",
      "Ratio: 0.1\n",
      "Net: 1 / 10\n",
      "Net: 2 / 10\n",
      "Net: 3 / 10\n",
      "Net: 4 / 10\n",
      "Net: 5 / 10\n",
      "Net: 6 / 10\n",
      "Net: 7 / 10\n",
      "Net: 8 / 10\n",
      "Net: 9 / 10\n",
      "Net: 10 / 10\n",
      "Ratio Time: 121.74641346931458 seconds\n",
      "\n",
      "Ratio: 0.15\n",
      "Net: 1 / 10\n",
      "Net: 2 / 10\n",
      "Net: 3 / 10\n",
      "Net: 4 / 10\n",
      "Net: 5 / 10\n",
      "Net: 6 / 10\n",
      "Net: 7 / 10\n",
      "Net: 8 / 10\n",
      "Net: 9 / 10\n",
      "Net: 10 / 10\n",
      "Ratio Time: 140.14218091964722 seconds\n",
      "\n",
      "Ratio: 0.2\n",
      "Net: 1 / 10\n",
      "Net: 2 / 10\n",
      "Net: 3 / 10\n",
      "Net: 4 / 10\n",
      "Net: 5 / 10\n",
      "Net: 6 / 10\n",
      "Net: 7 / 10\n",
      "Net: 8 / 10\n",
      "Net: 9 / 10\n",
      "Net: 10 / 10\n",
      "Ratio Time: 158.38748717308044 seconds\n",
      "\n",
      "Ratio: 0.25\n",
      "Net: 1 / 10\n",
      "Net: 2 / 10\n",
      "Net: 3 / 10\n",
      "Net: 4 / 10\n",
      "Net: 5 / 10\n",
      "Net: 6 / 10\n",
      "Net: 7 / 10\n",
      "Net: 8 / 10\n",
      "Net: 9 / 10\n",
      "Net: 10 / 10\n",
      "Ratio Time: 176.34654545783997 seconds\n",
      "\n",
      "Ratio: 0.3\n",
      "Net: 1 / 10\n",
      "Net: 2 / 10\n",
      "Net: 3 / 10\n",
      "Net: 4 / 10\n",
      "Net: 5 / 10\n",
      "Net: 6 / 10\n",
      "Net: 7 / 10\n",
      "Net: 8 / 10\n",
      "Net: 9 / 10\n",
      "Net: 10 / 10\n",
      "Ratio Time: 194.70821595191956 seconds\n",
      "\n",
      "Ratio: 0.35\n",
      "Net: 1 / 10\n",
      "Net: 2 / 10\n",
      "Net: 3 / 10\n",
      "Net: 4 / 10\n",
      "Net: 5 / 10\n",
      "Net: 6 / 10\n",
      "Net: 7 / 10\n",
      "Net: 8 / 10\n",
      "Net: 9 / 10\n",
      "Net: 10 / 10\n",
      "Ratio Time: 212.45752787590027 seconds\n",
      "\n",
      "Ratio: 0.39999999999999997\n",
      "Net: 1 / 10\n",
      "Net: 2 / 10\n",
      "Net: 3 / 10\n",
      "Net: 4 / 10\n",
      "Net: 5 / 10\n",
      "Net: 6 / 10\n",
      "Net: 7 / 10\n",
      "Net: 8 / 10\n",
      "Net: 9 / 10\n",
      "Net: 10 / 10\n",
      "Ratio Time: 231.3310146331787 seconds\n",
      "\n",
      "Ratio: 0.44999999999999996\n",
      "Net: 1 / 10\n",
      "Net: 2 / 10\n",
      "Net: 3 / 10\n",
      "Net: 4 / 10\n",
      "Net: 5 / 10\n",
      "Net: 6 / 10\n",
      "Net: 7 / 10\n",
      "Net: 8 / 10\n",
      "Net: 9 / 10\n",
      "Net: 10 / 10\n",
      "Ratio Time: 248.94337439537048 seconds\n",
      "\n",
      "Ratio: 0.49999999999999994\n",
      "Net: 1 / 10\n",
      "Net: 2 / 10\n",
      "Net: 3 / 10\n",
      "Net: 4 / 10\n",
      "Net: 5 / 10\n",
      "Net: 6 / 10\n",
      "Net: 7 / 10\n",
      "Net: 8 / 10\n",
      "Net: 9 / 10\n",
      "Net: 10 / 10\n",
      "Ratio Time: 267.45134973526 seconds\n",
      "\n",
      "Ratio: 0.5499999999999999\n",
      "Net: 1 / 10\n",
      "Net: 2 / 10\n",
      "Net: 3 / 10\n",
      "Net: 4 / 10\n",
      "Net: 5 / 10\n",
      "Net: 6 / 10\n",
      "Net: 7 / 10\n",
      "Net: 8 / 10\n",
      "Net: 9 / 10\n",
      "Net: 10 / 10\n",
      "Ratio Time: 286.80813431739807 seconds\n",
      "\n",
      "Ratio: 0.6\n",
      "Net: 1 / 10\n",
      "Net: 2 / 10\n",
      "Net: 3 / 10\n",
      "Net: 4 / 10\n",
      "Net: 5 / 10\n",
      "Net: 6 / 10\n",
      "Net: 7 / 10\n",
      "Net: 8 / 10\n",
      "Net: 9 / 10\n",
      "Net: 10 / 10\n",
      "Ratio Time: 303.846951007843 seconds\n",
      "\n",
      "Ratio: 0.65\n",
      "Net: 1 / 10\n",
      "Net: 2 / 10\n",
      "Net: 3 / 10\n",
      "Net: 4 / 10\n",
      "Net: 5 / 10\n",
      "Net: 6 / 10\n",
      "Net: 7 / 10\n",
      "Net: 8 / 10\n",
      "Net: 9 / 10\n",
      "Net: 10 / 10\n",
      "Ratio Time: 321.56076216697693 seconds\n",
      "\n",
      "Ratio: 0.7\n",
      "Net: 1 / 10\n",
      "Net: 2 / 10\n",
      "Net: 3 / 10\n",
      "Net: 4 / 10\n",
      "Net: 5 / 10\n",
      "Net: 6 / 10\n",
      "Net: 7 / 10\n",
      "Net: 8 / 10\n",
      "Net: 9 / 10\n",
      "Net: 10 / 10\n",
      "Ratio Time: 340.09235167503357 seconds\n",
      "\n",
      "Ratio: 0.75\n",
      "Net: 1 / 10\n",
      "Net: 2 / 10\n",
      "Net: 3 / 10\n",
      "Net: 4 / 10\n",
      "Net: 5 / 10\n",
      "Net: 6 / 10\n",
      "Net: 7 / 10\n",
      "Net: 8 / 10\n",
      "Net: 9 / 10\n",
      "Net: 10 / 10\n",
      "Ratio Time: 358.9720788002014 seconds\n",
      "\n",
      "Ratio: 0.7999999999999999\n",
      "Net: 1 / 10\n",
      "Net: 2 / 10\n",
      "Net: 3 / 10\n",
      "Net: 4 / 10\n",
      "Net: 5 / 10\n",
      "Net: 6 / 10\n",
      "Net: 7 / 10\n",
      "Net: 8 / 10\n",
      "Net: 9 / 10\n",
      "Net: 10 / 10\n",
      "Ratio Time: 377.1276481151581 seconds\n",
      "\n",
      "Ratio: 0.85\n",
      "Net: 1 / 10\n",
      "Net: 2 / 10\n",
      "Net: 3 / 10\n",
      "Net: 4 / 10\n",
      "Net: 5 / 10\n",
      "Net: 6 / 10\n",
      "Net: 7 / 10\n",
      "Net: 8 / 10\n",
      "Net: 9 / 10\n",
      "Net: 10 / 10\n",
      "Ratio Time: 394.9710416793823 seconds\n",
      "\n",
      "Ratio: 0.9\n",
      "Net: 1 / 10\n",
      "Net: 2 / 10\n",
      "Net: 3 / 10\n",
      "Net: 4 / 10\n",
      "Net: 5 / 10\n",
      "Net: 6 / 10\n",
      "Net: 7 / 10\n",
      "Net: 8 / 10\n",
      "Net: 9 / 10\n",
      "Net: 10 / 10\n",
      "Ratio Time: 414.2228286266327 seconds\n",
      "\n",
      "Ratio: 0.95\n",
      "Net: 1 / 10\n",
      "Net: 2 / 10\n",
      "Net: 3 / 10\n",
      "Net: 4 / 10\n",
      "Net: 5 / 10\n",
      "Net: 6 / 10\n",
      "Net: 7 / 10\n",
      "Net: 8 / 10\n",
      "Net: 9 / 10\n",
      "Net: 10 / 10\n",
      "Ratio Time: 432.2449026107788 seconds\n",
      "\n",
      "Ratio: 1.0\n",
      "Net: 1 / 10\n",
      "Net: 2 / 10\n",
      "Net: 3 / 10\n",
      "Net: 4 / 10\n",
      "Net: 5 / 10\n",
      "Net: 6 / 10\n",
      "Net: 7 / 10\n",
      "Net: 8 / 10\n",
      "Net: 9 / 10\n",
      "Net: 10 / 10\n",
      "Ratio Time: 450.8096282482147 seconds\n",
      "\n",
      "[0.78692, 0.89666, 0.9264800000000001, 0.9362199999999999, 0.9472099999999999, 0.95379, 0.96369, 0.96571, 0.96813, 0.96921, 0.9706300000000001, 0.9721499999999998, 0.9745199999999998, 0.97523, 0.9771199999999999, 0.9788899999999998, 0.9785, 0.9803700000000001, 0.9825099999999999, 0.98041]\n",
      "[0.02620859909775159, 0.011969980970930747, 0.0055302802822280095, 0.006299171021297609, 0.0022298231120676604, 0.005529004330699053, 0.0031694549128272005, 0.00425322100165146, 0.003180513585361123, 0.0031900714028929786, 0.0028794482496169783, 0.009263458677333565, 0.002002664891255315, 0.00318679567381823, 0.0027631704817312713, 0.0026755892393597854, 0.002174600857373363, 0.0012893150636416753, 0.0012723119813071579, 0.002247690172401687]\n"
     ]
    }
   ],
   "source": [
    "pure_means, pure_devs = train_pure_cnns(trainset, testloader, genset, mnist_ratios, device, nets=NETS, batch_size=CNN_BATCH_SIZE, num_epochs=CNN_EPOCHS, learning_rate=CNN_LR)\n",
    "print(pure_means)\n",
    "print(pure_devs)"
   ]
  },
  {
   "cell_type": "code",
   "execution_count": null,
   "id": "O9nSDjooLkUc",
   "metadata": {
    "colab": {
     "base_uri": "https://localhost:8080/",
     "height": 472
    },
    "id": "O9nSDjooLkUc",
    "outputId": "b40c9089-1c69-454d-cf27-3706c8c590f6"
   },
   "outputs": [
    {
     "data": {
      "image/png": "[encoded data removed]",
      "text/plain": [
       "<Figure size 640x480 with 1 Axes>"
      ]
     },
     "metadata": {},
     "output_type": "display_data"
    }
   ],
   "source": [
    "plt.scatter(mnist_ratios, pure_means)\n",
    "plt.xticks(mnist_ratios[::2])\n",
    "plt.errorbar(mnist_ratios, pure_means, yerr=pure_devs, fmt='none')\n",
    "plt.ylabel(\"Test Accuracy\")\n",
    "plt.xlabel(\"Percent of Total Real Training Set Used\")\n",
    "plt.title(\"Only Real Training Data\")\n",
    "plt.show()"
   ]
  },
  {
   "cell_type": "code",
   "execution_count": null,
   "id": "jfpTGNZ6D2q5",
   "metadata": {
    "id": "jfpTGNZ6D2q5"
   },
   "outputs": [],
   "source": []
  },
  {
   "cell_type": "code",
   "execution_count": null,
   "id": "w59G83CiEQF9",
   "metadata": {
    "colab": {
     "base_uri": "https://localhost:8080/"
    },
    "id": "w59G83CiEQF9",
    "outputId": "fc47c5e5-0b7e-4099-f654-81b70c0e5e3a"
   },
   "outputs": [
    {
     "data": {
      "text/plain": [
       "array([0.05, 0.1 , 0.15, 0.2 , 0.25, 0.3 , 0.35, 0.4 , 0.45, 0.5 , 0.55,\n",
       "       0.6 , 0.65, 0.7 , 0.75, 0.8 , 0.85, 0.9 , 0.95, 1.  ])"
      ]
     },
     "execution_count": 18,
     "metadata": {},
     "output_type": "execute_result"
    }
   ],
   "source": [
    "gen_ratios = np.linspace(0.05, 1.0, 20)\n",
    "gen_ratios"
   ]
  },
  {
   "cell_type": "code",
   "execution_count": null,
   "id": "6PcrMN8eAKQ7",
   "metadata": {
    "colab": {
     "base_uri": "https://localhost:8080/"
    },
    "id": "6PcrMN8eAKQ7",
    "outputId": "ad4c5d5b-3de2-493b-f570-bddbe46784ff"
   },
   "outputs": [
    {
     "name": "stdout",
     "output_type": "stream",
     "text": [
      "Ratio: 0.05\n",
      "Net: 1 / 10\n",
      "Net: 2 / 10\n",
      "Net: 3 / 10\n",
      "Net: 4 / 10\n",
      "Net: 5 / 10\n",
      "Net: 6 / 10\n",
      "Net: 7 / 10\n",
      "Net: 8 / 10\n",
      "Net: 9 / 10\n",
      "Net: 10 / 10\n",
      "Ratio Time: 104.07405018806458 seconds\n",
      "\n",
      "Ratio: 0.1\n",
      "Net: 1 / 10\n",
      "Net: 2 / 10\n",
      "Net: 3 / 10\n",
      "Net: 4 / 10\n",
      "Net: 5 / 10\n",
      "Net: 6 / 10\n",
      "Net: 7 / 10\n",
      "Net: 8 / 10\n",
      "Net: 9 / 10\n",
      "Net: 10 / 10\n",
      "Ratio Time: 122.06471467018127 seconds\n",
      "\n",
      "Ratio: 0.15\n",
      "Net: 1 / 10\n",
      "Net: 2 / 10\n",
      "Net: 3 / 10\n",
      "Net: 4 / 10\n",
      "Net: 5 / 10\n",
      "Net: 6 / 10\n",
      "Net: 7 / 10\n",
      "Net: 8 / 10\n",
      "Net: 9 / 10\n",
      "Net: 10 / 10\n",
      "Ratio Time: 140.06099200248718 seconds\n",
      "\n",
      "Ratio: 0.2\n",
      "Net: 1 / 10\n",
      "Net: 2 / 10\n",
      "Net: 3 / 10\n",
      "Net: 4 / 10\n",
      "Net: 5 / 10\n",
      "Net: 6 / 10\n",
      "Net: 7 / 10\n",
      "Net: 8 / 10\n",
      "Net: 9 / 10\n",
      "Net: 10 / 10\n",
      "Ratio Time: 158.66935682296753 seconds\n",
      "\n",
      "Ratio: 0.25\n",
      "Net: 1 / 10\n",
      "Net: 2 / 10\n",
      "Net: 3 / 10\n",
      "Net: 4 / 10\n",
      "Net: 5 / 10\n",
      "Net: 6 / 10\n",
      "Net: 7 / 10\n",
      "Net: 8 / 10\n",
      "Net: 9 / 10\n",
      "Net: 10 / 10\n",
      "Ratio Time: 176.91228485107422 seconds\n",
      "\n",
      "Ratio: 0.3\n",
      "Net: 1 / 10\n",
      "Net: 2 / 10\n",
      "Net: 3 / 10\n",
      "Net: 4 / 10\n",
      "Net: 5 / 10\n",
      "Net: 6 / 10\n",
      "Net: 7 / 10\n",
      "Net: 8 / 10\n",
      "Net: 9 / 10\n",
      "Net: 10 / 10\n",
      "Ratio Time: 194.7958426475525 seconds\n",
      "\n",
      "Ratio: 0.35\n",
      "Net: 1 / 10\n",
      "Net: 2 / 10\n",
      "Net: 3 / 10\n",
      "Net: 4 / 10\n",
      "Net: 5 / 10\n",
      "Net: 6 / 10\n",
      "Net: 7 / 10\n",
      "Net: 8 / 10\n",
      "Net: 9 / 10\n",
      "Net: 10 / 10\n",
      "Ratio Time: 214.10455107688904 seconds\n",
      "\n",
      "Ratio: 0.39999999999999997\n",
      "Net: 1 / 10\n",
      "Net: 2 / 10\n",
      "Net: 3 / 10\n",
      "Net: 4 / 10\n",
      "Net: 5 / 10\n",
      "Net: 6 / 10\n",
      "Net: 7 / 10\n",
      "Net: 8 / 10\n",
      "Net: 9 / 10\n",
      "Net: 10 / 10\n",
      "Ratio Time: 231.99796342849731 seconds\n",
      "\n",
      "Ratio: 0.44999999999999996\n",
      "Net: 1 / 10\n",
      "Net: 2 / 10\n",
      "Net: 3 / 10\n",
      "Net: 4 / 10\n",
      "Net: 5 / 10\n",
      "Net: 6 / 10\n",
      "Net: 7 / 10\n",
      "Net: 8 / 10\n",
      "Net: 9 / 10\n",
      "Net: 10 / 10\n",
      "Ratio Time: 250.65735411643982 seconds\n",
      "\n",
      "Ratio: 0.49999999999999994\n",
      "Net: 1 / 10\n",
      "Net: 2 / 10\n",
      "Net: 3 / 10\n",
      "Net: 4 / 10\n",
      "Net: 5 / 10\n",
      "Net: 6 / 10\n",
      "Net: 7 / 10\n",
      "Net: 8 / 10\n",
      "Net: 9 / 10\n",
      "Net: 10 / 10\n",
      "Ratio Time: 269.00132966041565 seconds\n",
      "\n",
      "Ratio: 0.5499999999999999\n",
      "Net: 1 / 10\n",
      "Net: 2 / 10\n",
      "Net: 3 / 10\n",
      "Net: 4 / 10\n",
      "Net: 5 / 10\n",
      "Net: 6 / 10\n",
      "Net: 7 / 10\n",
      "Net: 8 / 10\n",
      "Net: 9 / 10\n",
      "Net: 10 / 10\n",
      "Ratio Time: 288.52159094810486 seconds\n",
      "\n",
      "Ratio: 0.6\n",
      "Net: 1 / 10\n",
      "Net: 2 / 10\n",
      "Net: 3 / 10\n",
      "Net: 4 / 10\n",
      "Net: 5 / 10\n",
      "Net: 6 / 10\n",
      "Net: 7 / 10\n",
      "Net: 8 / 10\n",
      "Net: 9 / 10\n",
      "Net: 10 / 10\n",
      "Ratio Time: 306.64505982398987 seconds\n",
      "\n",
      "Ratio: 0.65\n",
      "Net: 1 / 10\n",
      "Net: 2 / 10\n",
      "Net: 3 / 10\n",
      "Net: 4 / 10\n",
      "Net: 5 / 10\n",
      "Net: 6 / 10\n",
      "Net: 7 / 10\n",
      "Net: 8 / 10\n",
      "Net: 9 / 10\n",
      "Net: 10 / 10\n",
      "Ratio Time: 323.8521692752838 seconds\n",
      "\n",
      "Ratio: 0.7\n",
      "Net: 1 / 10\n",
      "Net: 2 / 10\n",
      "Net: 3 / 10\n",
      "Net: 4 / 10\n",
      "Net: 5 / 10\n",
      "Net: 6 / 10\n",
      "Net: 7 / 10\n",
      "Net: 8 / 10\n",
      "Net: 9 / 10\n",
      "Net: 10 / 10\n",
      "Ratio Time: 342.164879322052 seconds\n",
      "\n",
      "Ratio: 0.75\n",
      "Net: 1 / 10\n",
      "Net: 2 / 10\n",
      "Net: 3 / 10\n",
      "Net: 4 / 10\n",
      "Net: 5 / 10\n",
      "Net: 6 / 10\n",
      "Net: 7 / 10\n",
      "Net: 8 / 10\n",
      "Net: 9 / 10\n",
      "Net: 10 / 10\n",
      "Ratio Time: 359.98688077926636 seconds\n",
      "\n",
      "Ratio: 0.7999999999999999\n",
      "Net: 1 / 10\n",
      "Net: 2 / 10\n",
      "Net: 3 / 10\n",
      "Net: 4 / 10\n",
      "Net: 5 / 10\n",
      "Net: 6 / 10\n",
      "Net: 7 / 10\n",
      "Net: 8 / 10\n",
      "Net: 9 / 10\n",
      "Net: 10 / 10\n",
      "Ratio Time: 379.46256160736084 seconds\n",
      "\n",
      "Ratio: 0.85\n",
      "Net: 1 / 10\n",
      "Net: 2 / 10\n",
      "Net: 3 / 10\n",
      "Net: 4 / 10\n",
      "Net: 5 / 10\n",
      "Net: 6 / 10\n",
      "Net: 7 / 10\n",
      "Net: 8 / 10\n",
      "Net: 9 / 10\n",
      "Net: 10 / 10\n",
      "Ratio Time: 398.3505778312683 seconds\n",
      "\n",
      "Ratio: 0.9\n",
      "Net: 1 / 10\n",
      "Net: 2 / 10\n",
      "Net: 3 / 10\n",
      "Net: 4 / 10\n",
      "Net: 5 / 10\n",
      "Net: 6 / 10\n",
      "Net: 7 / 10\n",
      "Net: 8 / 10\n",
      "Net: 9 / 10\n",
      "Net: 10 / 10\n",
      "Ratio Time: 415.9151096343994 seconds\n",
      "\n",
      "Ratio: 0.95\n",
      "Net: 1 / 10\n",
      "Net: 2 / 10\n",
      "Net: 3 / 10\n",
      "Net: 4 / 10\n",
      "Net: 5 / 10\n",
      "Net: 6 / 10\n",
      "Net: 7 / 10\n",
      "Net: 8 / 10\n",
      "Net: 9 / 10\n",
      "Net: 10 / 10\n",
      "Ratio Time: 434.42938446998596 seconds\n",
      "\n",
      "Ratio: 1.0\n",
      "Net: 1 / 10\n",
      "Net: 2 / 10\n",
      "Net: 3 / 10\n",
      "Net: 4 / 10\n",
      "Net: 5 / 10\n",
      "Net: 6 / 10\n",
      "Net: 7 / 10\n",
      "Net: 8 / 10\n",
      "Net: 9 / 10\n",
      "Net: 10 / 10\n",
      "Ratio Time: 453.39726758003235 seconds\n",
      "\n",
      "[0.80672, 0.8828900000000001, 0.9065799999999999, 0.91646, 0.9245599999999999, 0.9305300000000001, 0.93292, 0.94173, 0.94323, 0.9440100000000001, 0.94892, 0.9491799999999999, 0.9526999999999999, 0.9562999999999999, 0.9543099999999999, 0.9584999999999999, 0.9576499999999999, 0.95929, 0.96075, 0.9602699999999998]\n",
      "[0.021674244828572192, 0.006666908328953301, 0.002961906293063457, 0.004712206371636203, 0.0036748998474637217, 0.005870841317714001, 0.004903921333427398, 0.004919586703508058, 0.0020971144195987253, 0.005325921933754247, 0.004453413172937023, 0.003231030107497541, 0.005400822982554509, 0.003123032714099121, 0.005792034760485014, 0.003134396982586059, 0.0026209625034411305, 0.005595722572743505, 0.0029273613450417134, 0.004109622853742159]\n"
     ]
    }
   ],
   "source": [
    "synth_means, synth_devs = train_synth_cnns(trainset, testloader, genset, gen_ratios, device, nets=NETS, batch_size=CNN_BATCH_SIZE, num_epochs=CNN_EPOCHS, learning_rate=CNN_LR)\n",
    "print(synth_means)\n",
    "print(synth_devs)"
   ]
  },
  {
   "cell_type": "code",
   "execution_count": null,
   "id": "3P1m_-84OyaR",
   "metadata": {
    "colab": {
     "base_uri": "https://localhost:8080/",
     "height": 472
    },
    "id": "3P1m_-84OyaR",
    "outputId": "7a399317-9976-48e8-86dd-e452f8d38602"
   },
   "outputs": [
    {
     "data": {
      "image/png": "[encoded data removed]",
      "text/plain": [
       "<Figure size 640x480 with 1 Axes>"
      ]
     },
     "metadata": {},
     "output_type": "display_data"
    }
   ],
   "source": [
    "plt.scatter(gen_ratios, synth_means)\n",
    "plt.xticks(gen_ratios[::2])\n",
    "plt.errorbar(gen_ratios, synth_means, yerr=synth_devs, fmt='none')\n",
    "plt.ylabel(\"Test Accuracy\")\n",
    "plt.xlabel(\"Percent of Total Synthetic Training Set Used\")\n",
    "plt.title(\"Only Synthetic Training Data\")\n",
    "plt.show()"
   ]
  },
  {
   "cell_type": "code",
   "execution_count": null,
   "id": "G7k4YcHIAKTb",
   "metadata": {
    "id": "G7k4YcHIAKTb"
   },
   "outputs": [],
   "source": []
  },
  {
   "cell_type": "code",
   "execution_count": null,
   "id": "un128SR2E3m7",
   "metadata": {
    "colab": {
     "base_uri": "https://localhost:8080/"
    },
    "id": "un128SR2E3m7",
    "outputId": "c3f3f8c3-7b51-41c3-b1f0-e1bece92a064"
   },
   "outputs": [
    {
     "data": {
      "text/plain": [
       "array([0.05, 0.1 , 0.15, 0.2 , 0.25, 0.3 , 0.35, 0.4 , 0.45, 0.5 , 0.55,\n",
       "       0.6 , 0.65, 0.7 , 0.75, 0.8 , 0.85, 0.9 , 0.95])"
      ]
     },
     "execution_count": 21,
     "metadata": {},
     "output_type": "execute_result"
    }
   ],
   "source": [
    "mnist_ratios = np.linspace(0.05, 0.95, 19)\n",
    "mnist_ratios"
   ]
  },
  {
   "cell_type": "code",
   "execution_count": null,
   "id": "hoibfQFcAKVy",
   "metadata": {
    "colab": {
     "base_uri": "https://localhost:8080/"
    },
    "id": "hoibfQFcAKVy",
    "outputId": "533af48e-d43e-42cb-9f93-16835289419c"
   },
   "outputs": [
    {
     "name": "stdout",
     "output_type": "stream",
     "text": [
      "Ratio: 0.05\n",
      "Net: 1 / 10\n",
      "Net: 2 / 10\n",
      "Net: 3 / 10\n",
      "Net: 4 / 10\n",
      "Net: 5 / 10\n",
      "Net: 6 / 10\n",
      "Net: 7 / 10\n",
      "Net: 8 / 10\n",
      "Net: 9 / 10\n",
      "Net: 10 / 10\n",
      "Ratio Time: 452.2991006374359 seconds\n",
      "\n",
      "Ratio: 0.1\n",
      "Net: 1 / 10\n",
      "Net: 2 / 10\n",
      "Net: 3 / 10\n",
      "Net: 4 / 10\n",
      "Net: 5 / 10\n",
      "Net: 6 / 10\n",
      "Net: 7 / 10\n",
      "Net: 8 / 10\n",
      "Net: 9 / 10\n",
      "Net: 10 / 10\n",
      "Ratio Time: 451.52468514442444 seconds\n",
      "\n",
      "Ratio: 0.15\n",
      "Net: 1 / 10\n",
      "Net: 2 / 10\n",
      "Net: 3 / 10\n",
      "Net: 4 / 10\n",
      "Net: 5 / 10\n",
      "Net: 6 / 10\n",
      "Net: 7 / 10\n",
      "Net: 8 / 10\n",
      "Net: 9 / 10\n",
      "Net: 10 / 10\n",
      "Ratio Time: 452.7777602672577 seconds\n",
      "\n",
      "Ratio: 0.2\n",
      "Net: 1 / 10\n",
      "Net: 2 / 10\n",
      "Net: 3 / 10\n",
      "Net: 4 / 10\n",
      "Net: 5 / 10\n",
      "Net: 6 / 10\n",
      "Net: 7 / 10\n",
      "Net: 8 / 10\n",
      "Net: 9 / 10\n",
      "Net: 10 / 10\n",
      "Ratio Time: 452.25784730911255 seconds\n",
      "\n",
      "Ratio: 0.25\n",
      "Net: 1 / 10\n",
      "Net: 2 / 10\n",
      "Net: 3 / 10\n",
      "Net: 4 / 10\n",
      "Net: 5 / 10\n",
      "Net: 6 / 10\n",
      "Net: 7 / 10\n",
      "Net: 8 / 10\n",
      "Net: 9 / 10\n",
      "Net: 10 / 10\n",
      "Ratio Time: 453.91813111305237 seconds\n",
      "\n",
      "Ratio: 0.3\n",
      "Net: 1 / 10\n",
      "Net: 2 / 10\n",
      "Net: 3 / 10\n",
      "Net: 4 / 10\n",
      "Net: 5 / 10\n",
      "Net: 6 / 10\n",
      "Net: 7 / 10\n",
      "Net: 8 / 10\n",
      "Net: 9 / 10\n",
      "Net: 10 / 10\n",
      "Ratio Time: 452.935453414917 seconds\n",
      "\n",
      "Ratio: 0.35\n",
      "Net: 1 / 10\n",
      "Net: 2 / 10\n",
      "Net: 3 / 10\n",
      "Net: 4 / 10\n",
      "Net: 5 / 10\n",
      "Net: 6 / 10\n",
      "Net: 7 / 10\n",
      "Net: 8 / 10\n",
      "Net: 9 / 10\n",
      "Net: 10 / 10\n",
      "Ratio Time: 451.180428981781 seconds\n",
      "\n",
      "Ratio: 0.39999999999999997\n",
      "Net: 1 / 10\n",
      "Net: 2 / 10\n",
      "Net: 3 / 10\n",
      "Net: 4 / 10\n",
      "Net: 5 / 10\n",
      "Net: 6 / 10\n",
      "Net: 7 / 10\n",
      "Net: 8 / 10\n",
      "Net: 9 / 10\n",
      "Net: 10 / 10\n",
      "Ratio Time: 453.8034725189209 seconds\n",
      "\n",
      "Ratio: 0.44999999999999996\n",
      "Net: 1 / 10\n",
      "Net: 2 / 10\n",
      "Net: 3 / 10\n",
      "Net: 4 / 10\n",
      "Net: 5 / 10\n",
      "Net: 6 / 10\n",
      "Net: 7 / 10\n",
      "Net: 8 / 10\n",
      "Net: 9 / 10\n",
      "Net: 10 / 10\n",
      "Ratio Time: 455.8626253604889 seconds\n",
      "\n",
      "Ratio: 0.49999999999999994\n",
      "Net: 1 / 10\n",
      "Net: 2 / 10\n",
      "Net: 3 / 10\n",
      "Net: 4 / 10\n",
      "Net: 5 / 10\n",
      "Net: 6 / 10\n",
      "Net: 7 / 10\n",
      "Net: 8 / 10\n",
      "Net: 9 / 10\n",
      "Net: 10 / 10\n",
      "Ratio Time: 452.77560353279114 seconds\n",
      "\n",
      "Ratio: 0.5499999999999999\n",
      "Net: 1 / 10\n",
      "Net: 2 / 10\n",
      "Net: 3 / 10\n",
      "Net: 4 / 10\n",
      "Net: 5 / 10\n",
      "Net: 6 / 10\n",
      "Net: 7 / 10\n",
      "Net: 8 / 10\n",
      "Net: 9 / 10\n",
      "Net: 10 / 10\n",
      "Ratio Time: 453.0182616710663 seconds\n",
      "\n",
      "Ratio: 0.6\n",
      "Net: 1 / 10\n",
      "Net: 2 / 10\n",
      "Net: 3 / 10\n",
      "Net: 4 / 10\n",
      "Net: 5 / 10\n",
      "Net: 6 / 10\n",
      "Net: 7 / 10\n",
      "Net: 8 / 10\n",
      "Net: 9 / 10\n",
      "Net: 10 / 10\n",
      "Ratio Time: 453.3314776420593 seconds\n",
      "\n",
      "Ratio: 0.65\n",
      "Net: 1 / 10\n",
      "Net: 2 / 10\n",
      "Net: 3 / 10\n",
      "Net: 4 / 10\n",
      "Net: 5 / 10\n",
      "Net: 6 / 10\n",
      "Net: 7 / 10\n",
      "Net: 8 / 10\n",
      "Net: 9 / 10\n",
      "Net: 10 / 10\n",
      "Ratio Time: 453.0721757411957 seconds\n",
      "\n",
      "Ratio: 0.7\n",
      "Net: 1 / 10\n",
      "Net: 2 / 10\n",
      "Net: 3 / 10\n",
      "Net: 4 / 10\n",
      "Net: 5 / 10\n",
      "Net: 6 / 10\n",
      "Net: 7 / 10\n",
      "Net: 8 / 10\n",
      "Net: 9 / 10\n",
      "Net: 10 / 10\n",
      "Ratio Time: 453.637850522995 seconds\n",
      "\n",
      "Ratio: 0.75\n",
      "Net: 1 / 10\n",
      "Net: 2 / 10\n",
      "Net: 3 / 10\n",
      "Net: 4 / 10\n",
      "Net: 5 / 10\n",
      "Net: 6 / 10\n",
      "Net: 7 / 10\n",
      "Net: 8 / 10\n",
      "Net: 9 / 10\n",
      "Net: 10 / 10\n",
      "Ratio Time: 451.60156869888306 seconds\n",
      "\n",
      "Ratio: 0.7999999999999999\n",
      "Net: 1 / 10\n",
      "Net: 2 / 10\n",
      "Net: 3 / 10\n",
      "Net: 4 / 10\n",
      "Net: 5 / 10\n",
      "Net: 6 / 10\n",
      "Net: 7 / 10\n",
      "Net: 8 / 10\n",
      "Net: 9 / 10\n",
      "Net: 10 / 10\n",
      "Ratio Time: 451.65538358688354 seconds\n",
      "\n",
      "Ratio: 0.85\n",
      "Net: 1 / 10\n",
      "Net: 2 / 10\n",
      "Net: 3 / 10\n",
      "Net: 4 / 10\n",
      "Net: 5 / 10\n",
      "Net: 6 / 10\n",
      "Net: 7 / 10\n",
      "Net: 8 / 10\n",
      "Net: 9 / 10\n",
      "Net: 10 / 10\n",
      "Ratio Time: 451.35582065582275 seconds\n",
      "\n",
      "Ratio: 0.9\n",
      "Net: 1 / 10\n",
      "Net: 2 / 10\n",
      "Net: 3 / 10\n",
      "Net: 4 / 10\n",
      "Net: 5 / 10\n",
      "Net: 6 / 10\n",
      "Net: 7 / 10\n",
      "Net: 8 / 10\n",
      "Net: 9 / 10\n",
      "Net: 10 / 10\n",
      "Ratio Time: 453.2066614627838 seconds\n",
      "\n",
      "Ratio: 0.95\n",
      "Net: 1 / 10\n",
      "Net: 2 / 10\n",
      "Net: 3 / 10\n",
      "Net: 4 / 10\n",
      "Net: 5 / 10\n",
      "Net: 6 / 10\n",
      "Net: 7 / 10\n",
      "Net: 8 / 10\n",
      "Net: 9 / 10\n",
      "Net: 10 / 10\n",
      "Ratio Time: 452.8894410133362 seconds\n",
      "\n",
      "[0.9629099999999999, 0.9674400000000001, 0.9703200000000001, 0.9719200000000001, 0.9726000000000001, 0.9741899999999999, 0.9750600000000003, 0.97586, 0.9771799999999999, 0.97768, 0.97843, 0.9780999999999999, 0.97923, 0.9793800000000001, 0.9799100000000001, 0.9798600000000001, 0.98109, 0.9803499999999999, 0.9817499999999999]\n",
      "[0.0037675367726583905, 0.0027681522116145686, 0.002759146405845283, 0.002076749597060013, 0.0011661903789690544, 0.0025800301462493794, 0.0025669696790833764, 0.0035734203969493045, 0.0029727652671096175, 0.0033488969991791405, 0.002301231554334906, 0.002525426256650111, 0.0025617051612809283, 0.002258711530447776, 0.001555242031896576, 0.002913646054916993, 0.0017259136066958294, 0.002167051247919887, 0.001996803000353867]\n"
     ]
    }
   ],
   "source": [
    "mixed_means, mixed_devs = train_mixed_cnns(trainset, testloader, genset, mnist_ratios, device, nets=NETS, batch_size=CNN_BATCH_SIZE, num_epochs=CNN_EPOCHS, learning_rate=CNN_LR)\n",
    "print(mixed_means)\n",
    "print(mixed_devs)"
   ]
  },
  {
   "cell_type": "code",
   "execution_count": null,
   "id": "wv4ZFz37OAnD",
   "metadata": {
    "colab": {
     "base_uri": "https://localhost:8080/",
     "height": 472
    },
    "id": "wv4ZFz37OAnD",
    "outputId": "fd84620a-6cd6-4d19-f226-af34621c0257"
   },
   "outputs": [
    {
     "data": {
      "image/png": "[encoded data removed]",
      "text/plain": [
       "<Figure size 640x480 with 1 Axes>"
      ]
     },
     "metadata": {},
     "output_type": "display_data"
    }
   ],
   "source": [
    "xs = np.linspace(mnist_ratios[0], mnist_ratios[-1], 1000)\n",
    "plt.scatter(mnist_ratios, mixed_means)\n",
    "plt.xticks(mnist_ratios[::2])\n",
    "plt.errorbar(mnist_ratios, mixed_means, yerr=mixed_devs, fmt='none')\n",
    "plt.plot(xs, [pure_means[-1]]*len(xs), color='red', label=\"All Real\")\n",
    "plt.plot(xs, [synth_means[-1]]*len(xs), color='green', label=\"All Synth\")\n",
    "plt.legend(loc='right')\n",
    "plt.ylabel(\"Test Accuracy\")\n",
    "plt.xlabel(\"Percent of Training Set that is Real\")\n",
    "plt.title(\"Both Real and Synthetic Data\")\n",
    "plt.show()"
   ]
  },
  {
   "cell_type": "code",
   "execution_count": null,
   "id": "-YnfsTs5AKXq",
   "metadata": {
    "id": "-YnfsTs5AKXq"
   },
   "outputs": [],
   "source": []
  },
  {
   "cell_type": "code",
   "execution_count": null,
   "id": "dFZ36C0_FSVh",
   "metadata": {
    "colab": {
     "base_uri": "https://localhost:8080/"
    },
    "id": "dFZ36C0_FSVh",
    "outputId": "1f0912b1-2485-42de-a6f1-588b686a7d28"
   },
   "outputs": [
    {
     "data": {
      "text/plain": [
       "array([0.05, 0.1 , 0.15, 0.2 , 0.25, 0.3 , 0.35, 0.4 , 0.45, 0.5 , 0.55,\n",
       "       0.6 , 0.65, 0.7 , 0.75, 0.8 , 0.85, 0.9 , 0.95, 1.  ])"
      ]
     },
     "execution_count": 24,
     "metadata": {},
     "output_type": "execute_result"
    }
   ],
   "source": [
    "gen_ratios = np.linspace(0.05, 1.0, 20)\n",
    "gen_ratios"
   ]
  },
  {
   "cell_type": "code",
   "execution_count": null,
   "id": "TdFPzTFOAKZb",
   "metadata": {
    "colab": {
     "background_save": true,
     "base_uri": "https://localhost:8080/"
    },
    "id": "TdFPzTFOAKZb",
    "outputId": "980bb3cf-d544-4509-9ec7-921dea810e77"
   },
   "outputs": [
    {
     "name": "stdout",
     "output_type": "stream",
     "text": [
      "Ratio: 0.05\n",
      "Net: 1 / 10\n",
      "Net: 2 / 10\n",
      "Net: 3 / 10\n",
      "Net: 4 / 10\n",
      "Net: 5 / 10\n",
      "Net: 6 / 10\n",
      "Net: 7 / 10\n",
      "Net: 8 / 10\n",
      "Net: 9 / 10\n",
      "Net: 10 / 10\n",
      "Ratio Time: 470.7267198562622 seconds\n",
      "\n",
      "Ratio: 0.1\n",
      "Net: 1 / 10\n",
      "Net: 2 / 10\n",
      "Net: 3 / 10\n",
      "Net: 4 / 10\n",
      "Net: 5 / 10\n",
      "Net: 6 / 10\n",
      "Net: 7 / 10\n",
      "Net: 8 / 10\n",
      "Net: 9 / 10\n",
      "Net: 10 / 10\n",
      "Ratio Time: 489.5808594226837 seconds\n",
      "\n",
      "Ratio: 0.15\n",
      "Net: 1 / 10\n",
      "Net: 2 / 10\n",
      "Net: 3 / 10\n",
      "Net: 4 / 10\n",
      "Net: 5 / 10\n",
      "Net: 6 / 10\n",
      "Net: 7 / 10\n",
      "Net: 8 / 10\n",
      "Net: 9 / 10\n",
      "Net: 10 / 10\n",
      "Ratio Time: 507.9184374809265 seconds\n",
      "\n",
      "Ratio: 0.2\n",
      "Net: 1 / 10\n",
      "Net: 2 / 10\n",
      "Net: 3 / 10\n",
      "Net: 4 / 10\n",
      "Net: 5 / 10\n",
      "Net: 6 / 10\n",
      "Net: 7 / 10\n",
      "Net: 8 / 10\n",
      "Net: 9 / 10\n",
      "Net: 10 / 10\n",
      "Ratio Time: 527.1232233047485 seconds\n",
      "\n",
      "Ratio: 0.25\n",
      "Net: 1 / 10\n",
      "Net: 2 / 10\n",
      "Net: 3 / 10\n",
      "Net: 4 / 10\n",
      "Net: 5 / 10\n",
      "Net: 6 / 10\n",
      "Net: 7 / 10\n",
      "Net: 8 / 10\n",
      "Net: 9 / 10\n",
      "Net: 10 / 10\n",
      "Ratio Time: 542.1376829147339 seconds\n",
      "\n",
      "Ratio: 0.3\n",
      "Net: 1 / 10\n",
      "Net: 2 / 10\n",
      "Net: 3 / 10\n",
      "Net: 4 / 10\n",
      "Net: 5 / 10\n",
      "Net: 6 / 10\n",
      "Net: 7 / 10\n",
      "Net: 8 / 10\n",
      "Net: 9 / 10\n",
      "Net: 10 / 10\n",
      "Ratio Time: 556.2999322414398 seconds\n",
      "\n",
      "Ratio: 0.35\n",
      "Net: 1 / 10\n",
      "Net: 2 / 10\n",
      "Net: 3 / 10\n",
      "Net: 4 / 10\n",
      "Net: 5 / 10\n",
      "Net: 6 / 10\n",
      "Net: 7 / 10\n",
      "Net: 8 / 10\n",
      "Net: 9 / 10\n",
      "Net: 10 / 10\n",
      "Ratio Time: 575.3599679470062 seconds\n",
      "\n",
      "Ratio: 0.39999999999999997\n",
      "Net: 1 / 10\n",
      "Net: 2 / 10\n",
      "Net: 3 / 10\n",
      "Net: 4 / 10\n",
      "Net: 5 / 10\n",
      "Net: 6 / 10\n",
      "Net: 7 / 10\n",
      "Net: 8 / 10\n",
      "Net: 9 / 10\n",
      "Net: 10 / 10\n",
      "Ratio Time: 593.7969648838043 seconds\n",
      "\n",
      "Ratio: 0.44999999999999996\n",
      "Net: 1 / 10\n",
      "Net: 2 / 10\n",
      "Net: 3 / 10\n",
      "Net: 4 / 10\n",
      "Net: 5 / 10\n",
      "Net: 6 / 10\n",
      "Net: 7 / 10\n",
      "Net: 8 / 10\n",
      "Net: 9 / 10\n",
      "Net: 10 / 10\n",
      "Ratio Time: 612.8113946914673 seconds\n",
      "\n",
      "Ratio: 0.49999999999999994\n",
      "Net: 1 / 10\n",
      "Net: 2 / 10\n",
      "Net: 3 / 10\n",
      "Net: 4 / 10\n",
      "Net: 5 / 10\n",
      "Net: 6 / 10\n",
      "Net: 7 / 10\n",
      "Net: 8 / 10\n",
      "Net: 9 / 10\n",
      "Net: 10 / 10\n",
      "Ratio Time: 632.1460242271423 seconds\n",
      "\n",
      "Ratio: 0.5499999999999999\n",
      "Net: 1 / 10\n",
      "Net: 2 / 10\n",
      "Net: 3 / 10\n",
      "Net: 4 / 10\n",
      "Net: 5 / 10\n",
      "Net: 6 / 10\n",
      "Net: 7 / 10\n",
      "Net: 8 / 10\n",
      "Net: 9 / 10\n",
      "Net: 10 / 10\n",
      "Ratio Time: 650.5129721164703 seconds\n",
      "\n",
      "Ratio: 0.6\n",
      "Net: 1 / 10\n",
      "Net: 2 / 10\n",
      "Net: 3 / 10\n",
      "Net: 4 / 10\n",
      "Net: 5 / 10\n",
      "Net: 6 / 10\n",
      "Net: 7 / 10\n",
      "Net: 8 / 10\n",
      "Net: 9 / 10\n",
      "Net: 10 / 10\n",
      "Ratio Time: 669.6147108078003 seconds\n",
      "\n",
      "Ratio: 0.65\n",
      "Net: 1 / 10\n",
      "Net: 2 / 10\n",
      "Net: 3 / 10\n",
      "Net: 4 / 10\n",
      "Net: 5 / 10\n",
      "Net: 6 / 10\n",
      "Net: 7 / 10\n",
      "Net: 8 / 10\n",
      "Net: 9 / 10\n",
      "Net: 10 / 10\n",
      "Ratio Time: 686.1018416881561 seconds\n",
      "\n",
      "Ratio: 0.7\n",
      "Net: 1 / 10\n",
      "Net: 2 / 10\n",
      "Net: 3 / 10\n",
      "Net: 4 / 10\n",
      "Net: 5 / 10\n",
      "Net: 6 / 10\n",
      "Net: 7 / 10\n",
      "Net: 8 / 10\n",
      "Net: 9 / 10\n",
      "Net: 10 / 10\n",
      "Ratio Time: 707.2578432559967 seconds\n",
      "\n",
      "Ratio: 0.75\n",
      "Net: 1 / 10\n",
      "Net: 2 / 10\n",
      "Net: 3 / 10\n",
      "Net: 4 / 10\n",
      "Net: 5 / 10\n",
      "Net: 6 / 10\n",
      "Net: 7 / 10\n",
      "Net: 8 / 10\n",
      "Net: 9 / 10\n",
      "Net: 10 / 10\n",
      "Ratio Time: 724.5019247531891 seconds\n",
      "\n",
      "Ratio: 0.7999999999999999\n",
      "Net: 1 / 10\n",
      "Net: 2 / 10\n",
      "Net: 3 / 10\n",
      "Net: 4 / 10\n",
      "Net: 5 / 10\n",
      "Net: 6 / 10\n",
      "Net: 7 / 10\n",
      "Net: 8 / 10\n",
      "Net: 9 / 10\n",
      "Net: 10 / 10\n",
      "Ratio Time: 743.0374290943146 seconds\n",
      "\n",
      "Ratio: 0.85\n",
      "Net: 1 / 10\n",
      "Net: 2 / 10\n",
      "Net: 3 / 10\n",
      "Net: 4 / 10\n",
      "Net: 5 / 10\n",
      "Net: 6 / 10\n",
      "Net: 7 / 10\n",
      "Net: 8 / 10\n",
      "Net: 9 / 10\n",
      "Net: 10 / 10\n",
      "Ratio Time: 761.6052656173706 seconds\n",
      "\n",
      "Ratio: 0.9\n",
      "Net: 1 / 10\n",
      "Net: 2 / 10\n",
      "Net: 3 / 10\n",
      "Net: 4 / 10\n",
      "Net: 5 / 10\n",
      "Net: 6 / 10\n",
      "Net: 7 / 10\n",
      "Net: 8 / 10\n",
      "Net: 9 / 10\n",
      "Net: 10 / 10\n",
      "Ratio Time: 776.0138103961945 seconds\n",
      "\n",
      "Ratio: 0.95\n",
      "Net: 1 / 10\n",
      "Net: 2 / 10\n",
      "Net: 3 / 10\n",
      "Net: 4 / 10\n",
      "Net: 5 / 10\n",
      "Net: 6 / 10\n",
      "Net: 7 / 10\n",
      "Net: 8 / 10\n",
      "Net: 9 / 10\n",
      "Net: 10 / 10\n",
      "Ratio Time: 793.9861652851105 seconds\n",
      "\n",
      "Ratio: 1.0\n",
      "Net: 1 / 10\n",
      "Net: 2 / 10\n",
      "Net: 3 / 10\n",
      "Net: 4 / 10\n",
      "Net: 5 / 10\n",
      "Net: 6 / 10\n",
      "Net: 7 / 10\n",
      "Net: 8 / 10\n",
      "Net: 9 / 10\n",
      "Net: 10 / 10\n",
      "Ratio Time: 815.3976299762726 seconds\n",
      "\n",
      "[0.9815200000000001, 0.9829200000000002, 0.9830599999999998, 0.98328, 0.9825099999999999, 0.98214, 0.9812800000000002, 0.98238, 0.984, 0.9834000000000002, 0.9845600000000001, 0.98377, 0.9843800000000001, 0.9839800000000001, 0.9827000000000001, 0.98424, 0.9847199999999999, 0.9843, 0.985, 0.9844800000000001]\n",
      "[0.0018310895360109595, 0.0019337930487918111, 0.001789599582774514, 0.0017112698339082839, 0.0018435774401358263, 0.003412460825985961, 0.0027836027813688733, 0.0030741936612169803, 0.0013556466271775287, 0.0015613384571507153, 0.0015211107052998376, 0.0015151457575648217, 0.0021993938558915412, 0.001885500228350833, 0.0013840359661351181, 0.0011107554986484807, 0.0016831187982103075, 0.0015018507101425232, 0.001604161255402125, 0.0026097254006248647]\n"
     ]
    }
   ],
   "source": [
    "extended_means, extended_devs = train_extended_cnns(trainset, testloader, genset, gen_ratios, device, nets=NETS, batch_size=CNN_BATCH_SIZE, num_epochs=CNN_EPOCHS, learning_rate=CNN_LR)\n",
    "print(extended_means)\n",
    "print(extended_devs)"
   ]
  },
  {
   "cell_type": "code",
   "execution_count": null,
   "id": "Fv0PZCmz4JSy",
   "metadata": {
    "colab": {
     "background_save": true
    },
    "id": "Fv0PZCmz4JSy",
    "outputId": "a9736a98-ce7c-42f2-c09b-9b0131644ccd"
   },
   "outputs": [
    {
     "data": {
      "image/png": "[encoded data removed]",
      "text/plain": [
       "<Figure size 640x480 with 1 Axes>"
      ]
     },
     "metadata": {},
     "output_type": "display_data"
    }
   ],
   "source": [
    "xs = np.linspace(gen_ratios[0], gen_ratios[-1], 1000)\n",
    "plt.scatter(gen_ratios, extended_means)\n",
    "plt.xticks(gen_ratios[::2])\n",
    "plt.errorbar(gen_ratios, extended_means, yerr=extended_devs, fmt='none')\n",
    "plt.plot(xs, [pure_means[-1]]*len(xs), color='red', label=\"All Real\")\n",
    "plt.plot(xs, [synth_means[-1]]*len(xs), color='green', label=\"All Synth\")\n",
    "plt.legend(loc='right')\n",
    "plt.ylabel(\"Test Accuracy\")\n",
    "plt.xlabel(\"Percent of Total Synthetic Set Added to Real Training Data\")\n",
    "plt.title(\"Full Real Dataset Augmented with Synthetic Data\")\n",
    "plt.show()"
   ]
  },
  {
   "cell_type": "code",
   "execution_count": null,
   "id": "eRJHrNesrXGI",
   "metadata": {
    "colab": {
     "background_save": true
    },
    "id": "eRJHrNesrXGI"
   },
   "outputs": [],
   "source": []
  },
  {
   "cell_type": "code",
   "execution_count": null,
   "id": "zjNCPXK7VZG4",
   "metadata": {
    "colab": {
     "background_save": true
    },
    "id": "zjNCPXK7VZG4",
    "outputId": "d48134b2-52d3-4e7f-dac7-2e0a4427b853"
   },
   "outputs": [
    {
     "name": "stdout",
     "output_type": "stream",
     "text": [
      "Ratio: 0.05\n",
      "Net: 1 / 10\n",
      "Net: 2 / 10\n",
      "Net: 3 / 10\n",
      "Net: 4 / 10\n",
      "Net: 5 / 10\n",
      "Net: 6 / 10\n",
      "Net: 7 / 10\n",
      "Net: 8 / 10\n",
      "Net: 9 / 10\n",
      "Net: 10 / 10\n",
      "Ratio Time: 465.4843876361847 seconds\n",
      "\n",
      "Ratio: 0.1\n",
      "Net: 1 / 10\n",
      "Net: 2 / 10\n",
      "Net: 3 / 10\n",
      "Net: 4 / 10\n",
      "Net: 5 / 10\n",
      "Net: 6 / 10\n",
      "Net: 7 / 10\n",
      "Net: 8 / 10\n",
      "Net: 9 / 10\n",
      "Net: 10 / 10\n",
      "Ratio Time: 485.9918396472931 seconds\n",
      "\n",
      "Ratio: 0.15\n",
      "Net: 1 / 10\n",
      "Net: 2 / 10\n",
      "Net: 3 / 10\n",
      "Net: 4 / 10\n",
      "Net: 5 / 10\n",
      "Net: 6 / 10\n",
      "Net: 7 / 10\n",
      "Net: 8 / 10\n",
      "Net: 9 / 10\n",
      "Net: 10 / 10\n",
      "Ratio Time: 503.2014856338501 seconds\n",
      "\n",
      "Ratio: 0.2\n",
      "Net: 1 / 10\n",
      "Net: 2 / 10\n",
      "Net: 3 / 10\n",
      "Net: 4 / 10\n",
      "Net: 5 / 10\n",
      "Net: 6 / 10\n",
      "Net: 7 / 10\n",
      "Net: 8 / 10\n",
      "Net: 9 / 10\n",
      "Net: 10 / 10\n",
      "Ratio Time: 519.0307250022888 seconds\n",
      "\n",
      "Ratio: 0.25\n",
      "Net: 1 / 10\n",
      "Net: 2 / 10\n",
      "Net: 3 / 10\n",
      "Net: 4 / 10\n",
      "Net: 5 / 10\n",
      "Net: 6 / 10\n",
      "Net: 7 / 10\n",
      "Net: 8 / 10\n",
      "Net: 9 / 10\n",
      "Net: 10 / 10\n",
      "Ratio Time: 538.9108102321625 seconds\n",
      "\n",
      "Ratio: 0.3\n",
      "Net: 1 / 10\n",
      "Net: 2 / 10\n",
      "Net: 3 / 10\n",
      "Net: 4 / 10\n",
      "Net: 5 / 10\n",
      "Net: 6 / 10\n",
      "Net: 7 / 10\n",
      "Net: 8 / 10\n",
      "Net: 9 / 10\n",
      "Net: 10 / 10\n",
      "Ratio Time: 559.4824702739716 seconds\n",
      "\n",
      "Ratio: 0.35\n",
      "Net: 1 / 10\n",
      "Net: 2 / 10\n",
      "Net: 3 / 10\n",
      "Net: 4 / 10\n",
      "Net: 5 / 10\n",
      "Net: 6 / 10\n",
      "Net: 7 / 10\n",
      "Net: 8 / 10\n",
      "Net: 9 / 10\n",
      "Net: 10 / 10\n",
      "Ratio Time: 576.6159319877625 seconds\n",
      "\n",
      "Ratio: 0.39999999999999997\n",
      "Net: 1 / 10\n",
      "Net: 2 / 10\n",
      "Net: 3 / 10\n",
      "Net: 4 / 10\n",
      "Net: 5 / 10\n",
      "Net: 6 / 10\n",
      "Net: 7 / 10\n",
      "Net: 8 / 10\n",
      "Net: 9 / 10\n",
      "Net: 10 / 10\n",
      "Ratio Time: 593.8809578418732 seconds\n",
      "\n",
      "Ratio: 0.44999999999999996\n",
      "Net: 1 / 10\n",
      "Net: 2 / 10\n",
      "Net: 3 / 10\n",
      "Net: 4 / 10\n",
      "Net: 5 / 10\n",
      "Net: 6 / 10\n",
      "Net: 7 / 10\n",
      "Net: 8 / 10\n",
      "Net: 9 / 10\n",
      "Net: 10 / 10\n",
      "Ratio Time: 611.5128226280212 seconds\n",
      "\n",
      "Ratio: 0.49999999999999994\n",
      "Net: 1 / 10\n",
      "Net: 2 / 10\n",
      "Net: 3 / 10\n",
      "Net: 4 / 10\n",
      "Net: 5 / 10\n",
      "Net: 6 / 10\n",
      "Net: 7 / 10\n",
      "Net: 8 / 10\n",
      "Net: 9 / 10\n",
      "Net: 10 / 10\n",
      "Ratio Time: 628.3901474475861 seconds\n",
      "\n",
      "Ratio: 0.5499999999999999\n",
      "Net: 1 / 10\n",
      "Net: 2 / 10\n",
      "Net: 3 / 10\n",
      "Net: 4 / 10\n",
      "Net: 5 / 10\n",
      "Net: 6 / 10\n",
      "Net: 7 / 10\n",
      "Net: 8 / 10\n",
      "Net: 9 / 10\n",
      "Net: 10 / 10\n",
      "Ratio Time: 647.9753806591034 seconds\n",
      "\n",
      "Ratio: 0.6\n",
      "Net: 1 / 10\n",
      "Net: 2 / 10\n",
      "Net: 3 / 10\n",
      "Net: 4 / 10\n",
      "Net: 5 / 10\n",
      "Net: 6 / 10\n",
      "Net: 7 / 10\n",
      "Net: 8 / 10\n",
      "Net: 9 / 10\n",
      "Net: 10 / 10\n",
      "Ratio Time: 664.4098918437958 seconds\n",
      "\n",
      "Ratio: 0.65\n",
      "Net: 1 / 10\n",
      "Net: 2 / 10\n",
      "Net: 3 / 10\n",
      "Net: 4 / 10\n",
      "Net: 5 / 10\n",
      "Net: 6 / 10\n",
      "Net: 7 / 10\n",
      "Net: 8 / 10\n",
      "Net: 9 / 10\n",
      "Net: 10 / 10\n",
      "Ratio Time: 684.2760751247406 seconds\n",
      "\n",
      "Ratio: 0.7\n",
      "Net: 1 / 10\n",
      "Net: 2 / 10\n",
      "Net: 3 / 10\n",
      "Net: 4 / 10\n",
      "Net: 5 / 10\n",
      "Net: 6 / 10\n",
      "Net: 7 / 10\n",
      "Net: 8 / 10\n",
      "Net: 9 / 10\n",
      "Net: 10 / 10\n",
      "Ratio Time: 705.4246258735657 seconds\n",
      "\n",
      "Ratio: 0.75\n",
      "Net: 1 / 10\n",
      "Net: 2 / 10\n",
      "Net: 3 / 10\n",
      "Net: 4 / 10\n",
      "Net: 5 / 10\n",
      "Net: 6 / 10\n",
      "Net: 7 / 10\n",
      "Net: 8 / 10\n",
      "Net: 9 / 10\n",
      "Net: 10 / 10\n",
      "Ratio Time: 719.3901047706604 seconds\n",
      "\n",
      "Ratio: 0.7999999999999999\n",
      "Net: 1 / 10\n",
      "Net: 2 / 10\n",
      "Net: 3 / 10\n",
      "Net: 4 / 10\n",
      "Net: 5 / 10\n",
      "Net: 6 / 10\n",
      "Net: 7 / 10\n",
      "Net: 8 / 10\n",
      "Net: 9 / 10\n",
      "Net: 10 / 10\n",
      "Ratio Time: 739.439710855484 seconds\n",
      "\n",
      "Ratio: 0.85\n",
      "Net: 1 / 10\n",
      "Net: 2 / 10\n",
      "Net: 3 / 10\n",
      "Net: 4 / 10\n",
      "Net: 5 / 10\n",
      "Net: 6 / 10\n",
      "Net: 7 / 10\n",
      "Net: 8 / 10\n",
      "Net: 9 / 10\n",
      "Net: 10 / 10\n",
      "Ratio Time: 758.0906517505646 seconds\n",
      "\n",
      "Ratio: 0.9\n",
      "Net: 1 / 10\n",
      "Net: 2 / 10\n",
      "Net: 3 / 10\n",
      "Net: 4 / 10\n",
      "Net: 5 / 10\n",
      "Net: 6 / 10\n",
      "Net: 7 / 10\n",
      "Net: 8 / 10\n",
      "Net: 9 / 10\n",
      "Net: 10 / 10\n",
      "Ratio Time: 775.9499244689941 seconds\n",
      "\n",
      "Ratio: 0.95\n",
      "Net: 1 / 10\n",
      "Net: 2 / 10\n",
      "Net: 3 / 10\n",
      "Net: 4 / 10\n",
      "Net: 5 / 10\n",
      "Net: 6 / 10\n",
      "Net: 7 / 10\n",
      "Net: 8 / 10\n",
      "Net: 9 / 10\n",
      "Net: 10 / 10\n",
      "Ratio Time: 793.3289420604706 seconds\n",
      "\n",
      "Ratio: 1.0\n",
      "Net: 1 / 10\n",
      "Net: 2 / 10\n",
      "Net: 3 / 10\n",
      "Net: 4 / 10\n",
      "Net: 5 / 10\n",
      "Net: 6 / 10\n",
      "Net: 7 / 10\n",
      "Net: 8 / 10\n",
      "Net: 9 / 10\n",
      "Net: 10 / 10\n",
      "Ratio Time: 811.4206392765045 seconds\n",
      "\n",
      "[0.9815699999999999, 0.9814399999999999, 0.9818300000000001, 0.9834400000000001, 0.98385, 0.9833500000000001, 0.9840300000000001, 0.9842699999999999, 0.98464, 0.9850899999999999, 0.9858399999999999, 0.98483, 0.9853799999999999, 0.98528, 0.98472, 0.98591, 0.98648, 0.9840500000000001, 0.9857100000000001, 0.9865]\n",
      "[0.0026675206965769984, 0.0027665461821154867, 0.0013441643418041704, 0.0016547574511759163, 0.0022819338777059725, 0.001999583289921524, 0.0019771191162901605, 0.0009189970378383054, 0.001093617849159372, 0.0010857153299911255, 0.0015629032812898552, 0.0011813833698959275, 0.001335664628565103, 0.0011858424103658087, 0.002260678364267398, 0.0013955882869480713, 0.0012172829489390598, 0.005083142072904658, 0.0025357225575541225, 0.0015484759532449158]\n"
     ]
    }
   ],
   "source": [
    "extended_means_pure, extended_devs_pure = train_extended_cnns(trainset, testloader, trainset, gen_ratios, device, nets=NETS, batch_size=CNN_BATCH_SIZE, num_epochs=CNN_EPOCHS, learning_rate=CNN_LR)\n",
    "print(extended_means_pure)\n",
    "print(extended_devs_pure)"
   ]
  },
  {
   "cell_type": "code",
   "execution_count": null,
   "id": "ppznWTN-PoWQ",
   "metadata": {
    "colab": {
     "background_save": true
    },
    "id": "ppznWTN-PoWQ",
    "outputId": "eaad181b-18dc-4848-fd52-fe7c3c8f5d9e"
   },
   "outputs": [
    {
     "data": {
      "image/png": "[encoded data removed]",
      "text/plain": [
       "<Figure size 640x480 with 1 Axes>"
      ]
     },
     "metadata": {},
     "output_type": "display_data"
    }
   ],
   "source": [
    "xs = np.linspace(gen_ratios[0], gen_ratios[-1], 1000)\n",
    "plt.scatter(gen_ratios, extended_means_pure)\n",
    "plt.xticks(gen_ratios[::2])\n",
    "plt.errorbar(gen_ratios, extended_means_pure, yerr=extended_devs_pure, fmt='none')\n",
    "plt.plot(xs, [pure_means[-1]]*len(xs), color='red', label=\"All Real\")\n",
    "plt.plot(xs, [synth_means[-1]]*len(xs), color='green', label=\"All Synth\")\n",
    "plt.legend(loc='right')\n",
    "plt.ylabel(\"Test Accuracy\")\n",
    "plt.xlabel(\"Percent of Total Real Set Added to Real Training Data\")\n",
    "plt.title(\"Full Real Dataset Augmented with Itself\")\n",
    "plt.show()"
   ]
  },
  {
   "cell_type": "code",
   "execution_count": null,
   "id": "EfH_qnnoPuqI",
   "metadata": {
    "colab": {
     "background_save": true
    },
    "id": "EfH_qnnoPuqI"
   },
   "outputs": [],
   "source": []
  },
  {
   "cell_type": "code",
   "execution_count": null,
   "id": "P-Xsaj6QPusf",
   "metadata": {
    "colab": {
     "background_save": true
    },
    "id": "P-Xsaj6QPusf",
    "outputId": "b0b5c2d7-54d4-4b3c-94ba-9b8a5fe2e43a"
   },
   "outputs": [
    {
     "data": {
      "image/png": "[encoded data removed]",
      "text/plain": [
       "<Figure size 640x480 with 1 Axes>"
      ]
     },
     "metadata": {},
     "output_type": "display_data"
    }
   ],
   "source": [
    "plt.scatter(gen_ratios, extended_means_pure, label=\"Real Augmented\")\n",
    "plt.scatter(gen_ratios, extended_means, label=\"Synth Augmented\")\n",
    "plt.xticks(gen_ratios[::2])\n",
    "plt.legend(loc='lower right')\n",
    "plt.ylabel(\"Test Accuracy\")\n",
    "plt.xlabel(\"Percent of Total Synthetic Set Added to Real Training Data\")\n",
    "plt.title(\"Real and Synthetic Data Augmenting\")\n",
    "plt.show()"
   ]
  },
  {
   "cell_type": "code",
   "execution_count": null,
   "id": "s2glUndVl4qL",
   "metadata": {
    "colab": {
     "background_save": true
    },
    "id": "s2glUndVl4qL"
   },
   "outputs": [],
   "source": []
  },
  {
   "cell_type": "code",
   "execution_count": null,
   "id": "bOAlwBbT9lYs",
   "metadata": {
    "colab": {
     "background_save": true
    },
    "id": "bOAlwBbT9lYs"
   },
   "outputs": [],
   "source": []
  }
 ],
 "metadata": {
  "accelerator": "GPU",
  "colab": {
   "gpuType": "A100",
   "machine_shape": "hm",
   "provenance": []
  },
  "kernelspec": {
   "display_name": "Python 3 (ipykernel)",
   "language": "python",
   "name": "python3"
  },
  "language_info": {
   "codemirror_mode": {
    "name": "ipython",
    "version": 3
   },
   "file_extension": ".py",
   "mimetype": "text/x-python",
   "name": "python",
   "nbconvert_exporter": "python",
   "pygments_lexer": "ipython3",
   "version": "3.11.7"
  }
 },
 "nbformat": 4,
 "nbformat_minor": 5
}
